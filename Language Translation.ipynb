{
 "cells": [
  {
   "cell_type": "code",
   "execution_count": 1,
   "id": "3a70310b-7047-4b02-96e0-3a07ea712d62",
   "metadata": {},
   "outputs": [
    {
     "name": "stdout",
     "output_type": "stream",
     "text": [
      "Requirement already satisfied: googletrans==4.0.0-rc1 in c:\\users\\panna\\appdata\\local\\programs\\python\\python312\\lib\\site-packages (4.0.0rc1)Note: you may need to restart the kernel to use updated packages.\n",
      "\n",
      "Requirement already satisfied: httpx==0.13.3 in c:\\users\\panna\\appdata\\local\\programs\\python\\python312\\lib\\site-packages (from googletrans==4.0.0-rc1) (0.13.3)\n",
      "Requirement already satisfied: certifi in c:\\users\\panna\\appdata\\local\\programs\\python\\python312\\lib\\site-packages (from httpx==0.13.3->googletrans==4.0.0-rc1) (2024.8.30)\n",
      "Requirement already satisfied: hstspreload in c:\\users\\panna\\appdata\\local\\programs\\python\\python312\\lib\\site-packages (from httpx==0.13.3->googletrans==4.0.0-rc1) (2024.9.1)\n",
      "Requirement already satisfied: sniffio in c:\\users\\panna\\appdata\\local\\programs\\python\\python312\\lib\\site-packages (from httpx==0.13.3->googletrans==4.0.0-rc1) (1.3.1)\n",
      "Requirement already satisfied: chardet==3.* in c:\\users\\panna\\appdata\\local\\programs\\python\\python312\\lib\\site-packages (from httpx==0.13.3->googletrans==4.0.0-rc1) (3.0.4)\n",
      "Requirement already satisfied: idna==2.* in c:\\users\\panna\\appdata\\local\\programs\\python\\python312\\lib\\site-packages (from httpx==0.13.3->googletrans==4.0.0-rc1) (2.10)\n",
      "Requirement already satisfied: rfc3986<2,>=1.3 in c:\\users\\panna\\appdata\\local\\programs\\python\\python312\\lib\\site-packages (from httpx==0.13.3->googletrans==4.0.0-rc1) (1.5.0)\n",
      "Requirement already satisfied: httpcore==0.9.* in c:\\users\\panna\\appdata\\local\\programs\\python\\python312\\lib\\site-packages (from httpx==0.13.3->googletrans==4.0.0-rc1) (0.9.1)\n",
      "Requirement already satisfied: h11<0.10,>=0.8 in c:\\users\\panna\\appdata\\local\\programs\\python\\python312\\lib\\site-packages (from httpcore==0.9.*->httpx==0.13.3->googletrans==4.0.0-rc1) (0.9.0)\n",
      "Requirement already satisfied: h2==3.* in c:\\users\\panna\\appdata\\local\\programs\\python\\python312\\lib\\site-packages (from httpcore==0.9.*->httpx==0.13.3->googletrans==4.0.0-rc1) (3.2.0)\n",
      "Requirement already satisfied: hyperframe<6,>=5.2.0 in c:\\users\\panna\\appdata\\local\\programs\\python\\python312\\lib\\site-packages (from h2==3.*->httpcore==0.9.*->httpx==0.13.3->googletrans==4.0.0-rc1) (5.2.0)\n",
      "Requirement already satisfied: hpack<4,>=3.0 in c:\\users\\panna\\appdata\\local\\programs\\python\\python312\\lib\\site-packages (from h2==3.*->httpcore==0.9.*->httpx==0.13.3->googletrans==4.0.0-rc1) (3.0.0)\n"
     ]
    }
   ],
   "source": [
    "pip install googletrans==4.0.0-rc1"
   ]
  },
  {
   "cell_type": "code",
   "execution_count": 2,
   "id": "dc836578-4e7d-437f-9cfc-bd3e01930e17",
   "metadata": {},
   "outputs": [],
   "source": [
    "from googletrans import Translator"
   ]
  },
  {
   "cell_type": "code",
   "execution_count": 3,
   "id": "40a47f89-3a38-4ea6-adcc-061cd82901d1",
   "metadata": {},
   "outputs": [],
   "source": [
    "def translate_text(text, dest_language='en'):\n",
    "    translator = Translator()\n",
    "    translation = translator.translate(text, dest=dest_language)\n",
    "    return translation.text"
   ]
  },
  {
   "cell_type": "code",
   "execution_count": 4,
   "id": "ea8c7467-f7d6-40bc-aaa9-b9b3b9c97171",
   "metadata": {},
   "outputs": [
    {
     "name": "stdin",
     "output_type": "stream",
     "text": [
      "Enter the text you want to translate:  Guy\n",
      "Enter the target language (e.g., 'es' for Spanish, 'fr' for French, 'kn' for Kannada, 'sk' for Sanskrit, 'mr' for Marathi, 'tg' for Telugu, 'tl' for Tamil):  kn\n"
     ]
    },
    {
     "name": "stdout",
     "output_type": "stream",
     "text": [
      "Translated Text: ವ್ಯಕ್ತಿ\n"
     ]
    }
   ],
   "source": [
    "if __name__ == \"__main__\":\n",
    "    source_text = input(\"Enter the text you want to translate: \")\n",
    "    target_language = input(\"Enter the target language (e.g., 'es' for Spanish, 'fr' for French, 'kn' for Kannada, 'sk' for Sanskrit, 'mr' for Marathi, 'tg' for Telugu, 'tl' for Tamil): \")\n",
    "    translated_text = translate_text(source_text, dest_language=target_language)\n",
    "    print(f\"Translated Text: {translated_text}\")"
   ]
  },
  {
   "cell_type": "code",
   "execution_count": 5,
   "id": "5bf9ec9c-fdb4-4885-a988-3b1bccf0de8f",
   "metadata": {},
   "outputs": [
    {
     "name": "stdout",
     "output_type": "stream",
     "text": [
      "Requirement already satisfied: google.cloud in c:\\users\\panna\\appdata\\local\\programs\\python\\python312\\lib\\site-packages (0.34.0)\n",
      "Note: you may need to restart the kernel to use updated packages.\n"
     ]
    }
   ],
   "source": [
    "pip install google.cloud"
   ]
  },
  {
   "cell_type": "code",
   "execution_count": 6,
   "id": "f4a8b952-54a6-4c61-8631-24f3598452f4",
   "metadata": {},
   "outputs": [],
   "source": [
    "def translate_text(text, dest_language='kn'):\n",
    "    translator = Translator()\n",
    "    translation = translator.translate(text, dest=dest_language)\n",
    "    return translation.text"
   ]
  },
  {
   "cell_type": "code",
   "execution_count": 7,
   "id": "b8bef44f-9053-4d40-9780-9f984faf5a01",
   "metadata": {},
   "outputs": [
    {
     "name": "stdin",
     "output_type": "stream",
     "text": [
      "Enter the text you want to translate:  ಸಲಿಂಗಕಾಮಿ\n",
      "Enter the target language (e.g., 'es' for Spanish, 'fr' for French, 'kn' for Kannada, 'sk' for Sanskrit, 'mr' for Marathi, 'tg' for Telugu, 'tl' for Tamil, 'en' for English):  en\n"
     ]
    },
    {
     "name": "stdout",
     "output_type": "stream",
     "text": [
      "Translated Text: Gay\n"
     ]
    }
   ],
   "source": [
    "if __name__ == \"__main__\":\n",
    "    source_text = input(\"Enter the text you want to translate: \")\n",
    "    target_language = input(\"Enter the target language (e.g., 'es' for Spanish, 'fr' for French, 'kn' for Kannada, 'sk' for Sanskrit, 'mr' for Marathi, 'tg' for Telugu, 'tl' for Tamil, 'en' for English): \")\n",
    "    translated_text = translate_text(source_text, dest_language=target_language)\n",
    "    print(f\"Translated Text: {translated_text}\")"
   ]
  },
  {
   "cell_type": "code",
   "execution_count": 8,
   "id": "b1773ac9-3658-4fcf-8f33-455b1c1fde79",
   "metadata": {},
   "outputs": [],
   "source": [
    "def translate_text(text, dest_language='es'):\n",
    "    translator = Translator()\n",
    "    translation = translator.translate(text, dest=dest_language)\n",
    "    return translation.text"
   ]
  },
  {
   "cell_type": "code",
   "execution_count": 9,
   "id": "d68df25c-849f-498e-a7ad-9c96034e0db8",
   "metadata": {},
   "outputs": [
    {
     "name": "stdin",
     "output_type": "stream",
     "text": [
      "Enter the text you want to translate:  Hola\n",
      "Enter the target language (e.g., 'es' for Spanish, 'fr' for French, 'kn' for Kannada, 'sk' for Sanskrit, 'mr' for Marathi, 'tg' for Telugu, 'tl' for Tamil, 'en' for English):  en\n"
     ]
    },
    {
     "name": "stdout",
     "output_type": "stream",
     "text": [
      "Translated Text: Hello\n"
     ]
    }
   ],
   "source": [
    "if __name__ == \"__main__\":\n",
    "    source_text = input(\"Enter the text you want to translate: \")\n",
    "    target_language = input(\"Enter the target language (e.g., 'es' for Spanish, 'fr' for French, 'kn' for Kannada, 'sk' for Sanskrit, 'mr' for Marathi, 'tg' for Telugu, 'tl' for Tamil, 'en' for English): \")\n",
    "    translated_text = translate_text(source_text, dest_language=target_language)\n",
    "    print(f\"Translated Text: {translated_text}\")"
   ]
  },
  {
   "cell_type": "code",
   "execution_count": 10,
   "id": "7de5d184-678f-4cd7-bdef-eadfad027647",
   "metadata": {},
   "outputs": [],
   "source": [
    "def translate_text(text, dest_language='fr'):\n",
    "    translator = Translator()\n",
    "    translation = translator.translate(text, dest=dest_language)\n",
    "    return translation.text"
   ]
  },
  {
   "cell_type": "code",
   "execution_count": 12,
   "id": "2da6c2ba-92fd-43f5-9386-db53cdc48e85",
   "metadata": {},
   "outputs": [
    {
     "name": "stdin",
     "output_type": "stream",
     "text": [
      "Enter the text you want to translate:  Lionne\n",
      "Enter the target language (e.g., 'es' for Spanish, 'fr' for French, 'kn' for Kannada, 'sk' for Sanskrit, 'mr' for Marathi, 'tg' for Telugu, 'tl' for Tamil, 'en' for English):  en\n"
     ]
    },
    {
     "name": "stdout",
     "output_type": "stream",
     "text": [
      "Translated Text: Lioness\n"
     ]
    }
   ],
   "source": [
    "if __name__ == \"__main__\":\n",
    "    source_text = input(\"Enter the text you want to translate: \")\n",
    "    target_language = input(\"Enter the target language (e.g., 'es' for Spanish, 'fr' for French, 'kn' for Kannada, 'sk' for Sanskrit, 'mr' for Marathi, 'tg' for Telugu, 'tl' for Tamil, 'en' for English): \")\n",
    "    translated_text = translate_text(source_text, dest_language=target_language)\n",
    "    print(f\"Translated Text: {translated_text}\")"
   ]
  }
 ],
 "metadata": {
  "kernelspec": {
   "display_name": "Python 3 (ipykernel)",
   "language": "python",
   "name": "python3"
  },
  "language_info": {
   "codemirror_mode": {
    "name": "ipython",
    "version": 3
   },
   "file_extension": ".py",
   "mimetype": "text/x-python",
   "name": "python",
   "nbconvert_exporter": "python",
   "pygments_lexer": "ipython3",
   "version": "3.12.6"
  }
 },
 "nbformat": 4,
 "nbformat_minor": 5
}
